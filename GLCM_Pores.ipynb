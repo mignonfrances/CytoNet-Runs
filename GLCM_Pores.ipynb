{
  "nbformat": 4,
  "nbformat_minor": 0,
  "metadata": {
    "colab": {
      "provenance": [],
      "mount_file_id": "1m97Vkmwj97GWFnVo5OuWjw3Ra8Y8aLaF",
      "authorship_tag": "ABX9TyN4lNeMMlEc2l5nPDDE4H/x",
      "include_colab_link": true
    },
    "kernelspec": {
      "name": "python3",
      "display_name": "Python 3"
    },
    "language_info": {
      "name": "python"
    }
  },
  "cells": [
    {
      "cell_type": "markdown",
      "metadata": {
        "id": "view-in-github",
        "colab_type": "text"
      },
      "source": [
        "<a href=\"https://colab.research.google.com/github/mignonfrances/CytoNet-Runs/blob/main/GLCM_Pores.ipynb\" target=\"_parent\"><img src=\"https://colab.research.google.com/assets/colab-badge.svg\" alt=\"Open In Colab\"/></a>"
      ]
    },
    {
      "cell_type": "markdown",
      "source": [
        "# **GLCM Analysis on pore images**"
      ],
      "metadata": {
        "id": "2KWuvNp1dGwB"
      }
    },
    {
      "cell_type": "markdown",
      "source": [
        "Import necessary packages"
      ],
      "metadata": {
        "id": "MeBNb09udMJe"
      }
    },
    {
      "cell_type": "code",
      "execution_count": null,
      "metadata": {
        "id": "ZDhl5W_JbaXc"
      },
      "outputs": [],
      "source": [
        "import pandas as pd\n",
        "from skimage.feature import graycomatrix, graycoprops\n",
        "import cv2\n",
        "import numpy as np\n",
        "import os"
      ]
    },
    {
      "cell_type": "markdown",
      "source": [
        "Initialize dataframe dictionary"
      ],
      "metadata": {
        "id": "ZCLNBOm0dQK-"
      }
    },
    {
      "cell_type": "code",
      "source": [
        "data = {'name': [], 'dis': [], 'con': [], 'cor': [], 'ene': [], 'hom': []}"
      ],
      "metadata": {
        "id": "_sru-I-xdV7n"
      },
      "execution_count": null,
      "outputs": []
    },
    {
      "cell_type": "markdown",
      "source": [
        "Loop over all images in the folder"
      ],
      "metadata": {
        "id": "nOFnnVfKd5Lo"
      }
    },
    {
      "cell_type": "code",
      "source": [
        "# Specify the directory containing the images\n",
        "image_dir = r\"/content/Pore images including controls\"\n",
        "\n",
        "# Get a list of all files in the directory\n",
        "image_files = [f for f in os.listdir(image_dir) if f.endswith('.png')]"
      ],
      "metadata": {
        "id": "OkhwH987d4hL"
      },
      "execution_count": null,
      "outputs": []
    },
    {
      "cell_type": "markdown",
      "source": [
        "Calculate GLCM properties for each image"
      ],
      "metadata": {
        "id": "8enDtfWneMEL"
      }
    },
    {
      "cell_type": "code",
      "source": [
        "for image_file in image_files:\n",
        "    # Construct the full file path\n",
        "    file_path = os.path.join(image_dir, image_file)\n",
        "\n",
        "    # Read the image file\n",
        "    image = cv2.imread(file_path, cv2.IMREAD_GRAYSCALE)\n",
        "    data['name'].append(image_file)\n",
        "\n",
        "    # Perform GLCM analysis\n",
        "    glcm = graycomatrix(image, [2], [0, np.pi/4, np.pi/2, 3*np.pi/4], levels=256, symmetric=True, normed=True)\n",
        "    contrast = graycoprops(glcm, 'contrast')\n",
        "    dissimilarity = graycoprops(glcm, 'dissimilarity')\n",
        "    homogeneity = graycoprops(glcm, 'homogeneity')\n",
        "    energy = graycoprops(glcm, 'energy')\n",
        "    correlation = graycoprops(glcm, 'correlation')\n",
        "    data['dis'].append(graycoprops(glcm, 'dissimilarity')[0, 0])\n",
        "    data['con'].append(graycoprops(glcm, 'contrast')[0, 0])\n",
        "    data['cor'].append(graycoprops(glcm, 'correlation')[0, 0])\n",
        "    data['ene'].append(graycoprops(glcm, 'energy')[0, 0])\n",
        "    data['hom'].append(graycoprops(glcm, 'homogeneity')[0, 0])\n",
        "\n",
        "    # # Print the GLCM properties\n",
        "    # print(f\"Image: {image_file}\")\n",
        "    # print(f\"Contrast: {contrast}\")\n",
        "    # print(f\"Dissimilarity: {dissimilarity}\")\n",
        "    # print(f\"Homogeneity: {homogeneity}\")\n",
        "    # print(f\"Energy: {energy}\")\n",
        "    # print(f\"Correlation: {correlation}\")\n",
        "    # print(\"\\n\")"
      ],
      "metadata": {
        "id": "vYIQ_wF2eKFP"
      },
      "execution_count": null,
      "outputs": []
    },
    {
      "cell_type": "markdown",
      "source": [
        "Print and export the dataframe"
      ],
      "metadata": {
        "id": "Z-dGSUh1iaS1"
      }
    },
    {
      "cell_type": "code",
      "source": [
        "# Print df\n",
        "print(data)\n",
        "\n",
        "# Export as .csv\n",
        "df = pd.DataFrame(data)\n",
        "df.to_csv('6_13_glcm_pore_analysis.csv', index=False)"
      ],
      "metadata": {
        "colab": {
          "base_uri": "https://localhost:8080/"
        },
        "id": "PqZRw16uidlm",
        "outputId": "4093eaf4-80ae-4074-d658-cbab3f73fe9e"
      },
      "execution_count": null,
      "outputs": [
        {
          "output_type": "stream",
          "name": "stdout",
          "text": [
            "{'name': ['Pt16_Sp02_Bx06.png', 'Pt28_Sp03_Bx03.png', 'Pt28_Sp03_Bx02.png', 'Pt16_Sp02_Bx05.png', 'Pt17_Sp01_Bx02.png', 'Pt28_Sp03_Bx04.png', 'Pt47_Sp01_Bx00.png', 'Pt16_Sp02_Bx00.png', 'Pt47_Sp01_Bx01.png', 'Pt28_Sp03_Bx00.png', 'Pt28_Sp03_Bx01.png', 'Pt17_Sp01_Bx00.png'], 'dis': [12.767006802721253, 4.8575510204081285, 4.044871794871792, 4.507246376811655, 2.6253753753753903, 3.0377425044091853, 2.319394376351843, 4.427860696517394, 2.35652173913043, 1.690131124913736, 3.8610742705570003, 9.40683601542736], 'con': [476.74319727892083, 39.46081632653041, 29.256993006992964, 45.818393272500124, 14.36961961961966, 15.288183421516761, 10.57058399423217, 33.78185993111362, 9.96588628762539, 5.03795721187026, 24.622347480105923, 152.90464157467437], 'cor': [0.5275666116421447, 0.8065906060717075, 0.8959703981558179, 0.880793660956017, 0.9452668244507345, 0.9308573000589113, 0.8216908969438242, 0.6586670867370161, 0.9343810006104034, 0.5657262486104223, 0.905524641563529, 0.7601898610398446], 'ene': [0.027901870073298262, 0.04713092878510444, 0.04603360759471189, 0.04532314789469514, 0.06265933456576346, 0.059572323296047315, 0.0890511656968787, 0.05852586593004987, 0.06587234070384625, 0.17723509205742055, 0.054328620335320765, 0.03383641414079654], 'hom': [0.1411882256782641, 0.19767815278317102, 0.23613305713293553, 0.251506718419726, 0.3580695698248543, 0.2907297668791839, 0.3836378873258116, 0.2231153828020172, 0.3672737685768686, 0.4473260832439929, 0.23947784953772114, 0.1148313201840184]}\n"
          ]
        }
      ]
    }
  ]
}